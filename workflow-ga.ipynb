{
 "cells": [
  {
   "cell_type": "markdown",
   "metadata": {},
   "source": [
    "---\n",
    "format:\n",
    "  html:\n",
    "    code-line-numbers: false\n",
    "    code-overflow: wrap\n",
    "    code-block-bg: true\n",
    "    code-block-border-left: true\n",
    "    highlight-style: arrow\n",
    "  pdf:\n",
    "    documentclass: scrreprt\n",
    "    links-as-notes: true\n",
    "    reference-location: section\n",
    "    toc: true\n",
    "    toc-depth: 2\n",
    "    lof: true\n",
    "    lot: true\n",
    "    number-sections: true\n",
    "    fig-width: 8\n",
    "    fig-height: 6\n",
    "\n",
    "---"
   ]
  },
  {
   "cell_type": "markdown",
   "metadata": {},
   "source": [
    "# Genetic Algorithm Workflow"
   ]
  },
  {
   "cell_type": "markdown",
   "metadata": {},
   "source": [
    "The Genetic Algorithm (GA) is a search heuristic inspired by Charles Darwin’s theory of natural selection. It mimics the process of natural evolution, leveraging the mechanisms of selection, crossover, and mutation to generate high-quality solutions to optimization and search problems. This approach is particularly well-suited for solving problems where the search space is large and complex.\n",
    "\n",
    "## Algorithmic Workflow\n",
    "\n",
    "The workflow of a genetic algorithm can be broken down into the following steps:\n",
    "\n",
    "1. Initialization:\n",
    "\n",
    "- Generate an initial population: This population consists of a number of individuals, and each individual (also known as a chromosome) represents a potential solution to the problem. The individuals are usually represented as strings of bits, characters, or numbers.\n",
    "\n",
    "2. Evaluation:\n",
    "\n",
    "- Calculate fitness: Each individual in the population is evaluated based on a fitness function. This function determines how well an individual solves the problem at hand. The fitness score is crucial as it determines the likelihood that an individual will be selected for reproduction.\n",
    "\n",
    "3. Selection:\n",
    "\n",
    "- Select parents: Individuals are selected to contribute to the next generation. The selection is often based on their fitness scores—the higher the fitness, the higher the probability of selection. Common selection methods include roulette wheel selection, tournament selection, and rank selection.\n",
    "\n",
    "4. Crossover (Recombination):\n",
    "\n",
    "- Generate offspring: Selected individuals (parents) are paired and recombined to produce offspring. Crossover is the genetic algorithm’s primary mechanism for generating new candidate solutions. One common method is the single-point crossover, where a point is chosen on the parent chromosomes, and the genetic material is swapped over this point to create new offspring.\n",
    "\n",
    "5. Mutation:\n",
    "\n",
    "- Introduce mutations: With a small probability, mutations are introduced to the offspring. Mutation involves altering one or more gene values in an individual's chromosome. It serves to maintain genetic diversity within the population and helps to avoid local minima by introducing novel solutions.\n",
    "\n",
    "6. Replacement:\n",
    "\n",
    "- Update the population: The offspring are then used to replace some or all of the older generation of individuals. This can be done in various ways, such as replacing the least fit individuals, replacing random individuals, or using a strategy like elitism, where the best individuals are always preserved.\n",
    "\n",
    "7. Termination:\n",
    "\n",
    "- Check termination conditions: The algorithm repeats the cycle of evaluation, selection, crossover, and mutation until a termination condition is met. Common termination conditions include reaching a maximum number of generations, achieving a sufficient fitness level, or having the population's fitness level plateau across several generations."
   ]
  },
  {
   "cell_type": "markdown",
   "metadata": {},
   "source": [
    "@fig-ga-flowchart shows the workflow of the genetic algorithm."
   ]
  },
  {
   "cell_type": "markdown",
   "metadata": {},
   "source": [
    "```{mermaid}\n",
    "%%| label: fig-ga-flowchart\n",
    "%%| fig-cap: Genetic algorithm workflow\n",
    "flowchart TD\n",
    "    A[Start] --> B[Initialize Population]\n",
    "    B --> C{Check Stopping Criteria}\n",
    "    C -->|Stopping Criteria Not Met| D[Select Parents]\n",
    "    D --> E[Perform Crossover]\n",
    "    E --> F[Apply Mutation]\n",
    "    F --> G[Form New Population]\n",
    "    G --> C\n",
    "    C -->|Stopping Criteria Met| H[End]\n",
    "```"
   ]
  }
 ],
 "metadata": {
  "kernelspec": {
   "display_name": "metaheuristic-java",
   "language": "python",
   "name": "python3"
  },
  "language_info": {
   "name": "python",
   "version": "3.12.3"
  }
 },
 "nbformat": 4,
 "nbformat_minor": 2
}
