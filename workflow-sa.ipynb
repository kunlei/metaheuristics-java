{
 "cells": [
  {
   "cell_type": "markdown",
   "metadata": {},
   "source": [
    "---\n",
    "format:\n",
    "  html:\n",
    "    code-line-numbers: false\n",
    "    code-overflow: wrap\n",
    "    code-block-bg: true\n",
    "    code-block-border-left: true\n",
    "    highlight-style: arrow\n",
    "  pdf:\n",
    "    documentclass: scrreprt\n",
    "    links-as-notes: true\n",
    "    reference-location: section\n",
    "    toc: true\n",
    "    toc-depth: 2\n",
    "    lof: true\n",
    "    lot: true\n",
    "    number-sections: true\n",
    "    fig-width: 8\n",
    "    fig-height: 6\n",
    "\n",
    "---"
   ]
  },
  {
   "cell_type": "markdown",
   "metadata": {},
   "source": [
    "# Simulated Annealing Workflow"
   ]
  },
  {
   "cell_type": "markdown",
   "metadata": {},
   "source": [
    "Simulated Annealing (SA) is a probabilistic technique for approximating the global optimum of a given function. Specifically, it is a metaheuristic to approximate global optimization in a large search space. It is often used when the search space is discontinuous and steep valleys and peaks complicate the path to the global maximum or minimum. The algorithm is inspired by the process of annealing in metallurgy, a technique involving heating and controlled cooling of a material to increase the size of its crystals and reduce their defects. The heating process causes the atoms to become disordered and then the slow cooling process attempts to bring the system to a more ordered state.\n",
    "\n",
    "## Algorithm Workflow\n",
    "\n",
    "The workflow for the Simulated Annealing algorithm is typically as follows:\n",
    "\n",
    "1. Initialization:\n",
    "\n",
    "- Start with an initial solution (often generated at random).\n",
    "- Set an initial temperature that is high enough to allow for exploration of the entire search space.\n",
    "- Define the cooling schedule, which is the process of lowering the temperature gradually as the algorithm proceeds.\n",
    "\n",
    "2. Iterative Optimization:\n",
    "\n",
    "- Select a neighbor: At each step of the algorithm, generate a \"neighboring\" solution. This is typically a small random variation of the current solution.\n",
    "- Calculate the change in energy (cost difference): Determine the difference in the objective function values between the current solution and the generated neighbor.\n",
    "- Decide to accept the new solution: This decision is made using the Metropolis criterion:\n",
    "    - If the new solution improves the objective function (i.e., it has lower energy in minimization problems), it is always accepted.\n",
    "    - If the new solution does not improve the objective function, it may still be accepted with a probability that depends on the difference in the objective function values and the current temperature. The probability is calculated using the formula $P = e^{-\\Delta e/t}$ where $\\Delta e$ is the change in energy, and $T$ is the current temperature.\n",
    "\n",
    "3. Cooling:\n",
    "\n",
    "- Reduce the temperature according to the cooling schedule. This reduction in temperature reduces the probability of accepting worse solutions, thus allowing the algorithm to focus more on exploitation rather than exploration as it converges.\n",
    "\n",
    "4. Termination:\n",
    "\n",
    "- Repeat the iterative process of exploring neighboring solutions and adjusting temperatures until a stopping criterion is met, such as reaching a minimum temperature, a maximum number of iterations, or a satisfactory solution stability."
   ]
  },
  {
   "cell_type": "markdown",
   "metadata": {},
   "source": [
    "@fig-sa-flowchart shows the workflow of simulated annealing."
   ]
  },
  {
   "cell_type": "markdown",
   "metadata": {},
   "source": [
    "```{mermaid}\n",
    "%%| label: fig-sa-flowchart\n",
    "%%| fig-cap: Simulated annealing workflow\n",
    "flowchart TD\n",
    "    A[Start] --> B[Initialize Solution]\n",
    "    B --> C[Set Initial Temperature]\n",
    "    C --> D[Begin Optimization Loop]\n",
    "\n",
    "    D --> E[Select Neighbor]\n",
    "    E --> G[Accept New Solution?]\n",
    "    G -->|Yes| H[Update Current Solution]\n",
    "    H --> I[Reduce Temperature]\n",
    "    I --> J{Check Termination Criteria}\n",
    "    J -->|No| D\n",
    "    J -->|Yes| K[End]\n",
    "\n",
    "    G -->|No| I\n",
    "```"
   ]
  }
 ],
 "metadata": {
  "kernelspec": {
   "display_name": "metaheuristic-java",
   "language": "python",
   "name": "python3"
  },
  "language_info": {
   "name": "python",
   "version": "3.12.3"
  }
 },
 "nbformat": 4,
 "nbformat_minor": 2
}
