{
 "cells": [
  {
   "cell_type": "markdown",
   "metadata": {},
   "source": [
    "---\n",
    "format:\n",
    "  html:\n",
    "    code-line-numbers: false\n",
    "    code-overflow: wrap\n",
    "    code-block-bg: true\n",
    "    code-block-border-left: true\n",
    "    highlight-style: arrow\n",
    "  pdf:\n",
    "    documentclass: scrreprt\n",
    "    links-as-notes: true\n",
    "    reference-location: section\n",
    "    toc: true\n",
    "    toc-depth: 2\n",
    "    lof: true\n",
    "    lot: true\n",
    "    number-sections: true\n",
    "    fig-width: 8\n",
    "    fig-height: 6\n",
    "\n",
    "---"
   ]
  },
  {
   "cell_type": "markdown",
   "metadata": {},
   "source": [
    "# Generalized Assignment Problem"
   ]
  },
  {
   "cell_type": "markdown",
   "metadata": {},
   "source": [
    "## Problem Statement"
   ]
  },
  {
   "cell_type": "markdown",
   "metadata": {},
   "source": [
    "\n",
    "\n",
    "Formally, the Generalized Assignment Problem can be defined as follows:\n",
    "\n",
    "Given:\n",
    "\n",
    "- A set of tasks, $T = \\{1, 2, ..., n\\}$\n",
    "- A set of agents, $A = \\{1, 2, ..., m\\}$\n",
    "- For each task $i$ and agent $j$, a cost or profit $c_{ij}$ associated with assigning task $i$ to agent $j$\n",
    "- For each task $i$ and agent $j$, a resource requirement $r_{ij}$ specifying the amount of resource needed from agent $j$ to complete task $i$\n",
    "- For each agent $j$, a capacity $b_j$ specifying the maximum amount of resource that agent $j$ can contribute\n",
    "\n",
    "The goal is to find an assignment of tasks to agents that minimizes the total cost or maximizes the total profit, while ensuring that each task is assigned to one or more agents, and the total resource requirement of each agent does not exceed its capacity.\n",
    "\n",
    "Mathematically, the GAP can be formulated as an integer linear programming problem. One possible formulation is as follows:\n",
    "\n",
    "$$\n",
    "\\begin{aligned}\n",
    "\\text{min.} &\\quad \\sum_{i=1}^{n} \\sum_{j=1}^{m} c_{ij} x_{ij} \\label{gap-obj}\\\\\n",
    "\\text{s.t.} &\\quad \\sum_{j=1}^{m} x_{ij} = 1, \\ \\forall i = 1, 2, ..., n \\label{gap-cons1}\\\\\n",
    "&\\quad \\sum_{i=1}^{n} r_{ij} x_{ij} \\leq b_j, \\  \\forall j = 1, 2, ..., m \\label{gap-cons2}\\\\\n",
    "&\\quad x_{ij} \\in \\{0, 1\\}, \\ \\forall i = 1, 2, ..., n, j = 1, 2, ..., m \\label{gap-cons3}\n",
    "\\end{aligned}\n",
    "$$\n",
    "\n",
    "where $x_{ij}$ is a binary decision variable that equals 1 if task $i$ is assigned to agent $j$, and 0 otherwise.\n",
    "\n",
    "The first set of constraints ensures that each task is assigned to exactly one agent, and the second set of constraints ensures that the total resource requirement of each agent does not exceed its capacity.\n",
    "\n",
    "Solving the GAP can be computationally challenging, especially for large instances, as it is a generalization of the classic assignment problem, which is known to be polynomial-time solvable. Various algorithms and heuristics, such as branch and bound, dynamic programming, and approximation algorithms, can be employed to find feasible or optimal solutions to the GAP.\n"
   ]
  },
  {
   "cell_type": "markdown",
   "metadata": {},
   "source": [
    "## Benchmarking Problems"
   ]
  }
 ],
 "metadata": {
  "language_info": {
   "name": "python"
  }
 },
 "nbformat": 4,
 "nbformat_minor": 2
}
